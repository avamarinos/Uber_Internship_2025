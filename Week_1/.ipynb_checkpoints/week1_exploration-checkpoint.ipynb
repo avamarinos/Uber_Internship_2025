{
 "cells": [
  {
   "cell_type": "code",
   "execution_count": 12,
   "id": "291cd654-a737-4b0e-ae9c-27824290f80a",
   "metadata": {},
   "outputs": [],
   "source": [
    "import pandas as pd\n",
    "import h3\n",
    "from shapely.geometry import Polygon\n",
    "import geopandas as gpd\n",
    "import matplotlib.pyplot as plt\n",
    "\n",
    "# displays figures directly inline in the Jupyter notebook\n",
    "%matplotlib inline"
   ]
  },
  {
   "cell_type": "code",
   "execution_count": 14,
   "id": "0fb7db65-94e5-4822-abe4-2bfad9e3e0b5",
   "metadata": {},
   "outputs": [
    {
     "name": "stdout",
     "output_type": "stream",
     "text": [
      "            timestamp  origin_lat  origin_lon  dest_lat  dest_lon  price_usd  \\\n",
      "0 2025-06-01 08:15:00      37.775    -122.418    37.789  -122.401      14.50   \n",
      "1 2025-06-01 08:20:00      37.776    -122.419    37.788  -122.400      15.00   \n",
      "2 2025-06-01 08:25:00      37.774    -122.417    37.790  -122.402      13.75   \n",
      "3 2025-06-01 09:00:00      37.780    -122.420    37.791  -122.405      12.50   \n",
      "4 2025-06-01 09:15:00      37.779    -122.419    37.792  -122.404      11.75   \n",
      "\n",
      "   trips  \n",
      "0      1  \n",
      "1      1  \n",
      "2      1  \n",
      "3      2  \n",
      "4      3  \n"
     ]
    }
   ],
   "source": [
    "df = pd.read_csv(\"trips_sample.csv\",parse_dates=[\"timestamp\"])\n",
    "print(df.head())"
   ]
  },
  {
   "cell_type": "code",
   "execution_count": 16,
   "id": "e96bb5c3-ff9e-4bfb-b5f3-94282ebadde3",
   "metadata": {},
   "outputs": [],
   "source": [
    "# import h3\n",
    "#lat, lng = 37.769377, -122.388903\n",
    "#resolution = 7\n",
    "#h3.latlng_to_cell(lat, lng, resolution)\n",
    "\n",
    "# sample point\n",
    "lat = df.loc[0,\"origin_lat\"]\n",
    "lon = df.loc[0,\"origin_lon\"]\n",
    "H3_RES = 7 \n",
    "\n",
    "#print(lat)\n",
    "#print(lon)"
   ]
  },
  {
   "cell_type": "code",
   "execution_count": 26,
   "id": "1798034a-661f-4628-91ea-356221000d0c",
   "metadata": {},
   "outputs": [
    {
     "name": "stdout",
     "output_type": "stream",
     "text": [
      "872830828ffffff\n"
     ]
    }
   ],
   "source": [
    "# gives hex ID for specific lat and lon and given resolution\n",
    "h3_index = h3.latlng_to_cell(lat,lon,H3_RES)\n",
    "center_lat, center_lon = h3.cell_to_latlng(h3_index)\n",
    "print(h3_index)\n",
    "print(center_lat, center_lon)"
   ]
  },
  {
   "cell_type": "code",
   "execution_count": 30,
   "id": "533ac7c6-6162-4256-bc6b-a45104741253",
   "metadata": {},
   "outputs": [],
   "source": [
    "# gives coordinates of boundary of H3 hexagon\n",
    "boundary = h3.cell_to_boundary(h3_index)\n",
    "boundary_lonlat = [(lon, lat) for lat, lon in boundary]"
   ]
  },
  {
   "cell_type": "code",
   "execution_count": 34,
   "id": "d4daf5b2-91a3-475b-8469-fb6404c77687",
   "metadata": {},
   "outputs": [
    {
     "data": {
      "image/png": "[encoded data removed]",
      "text/plain": [
       "<Figure size 640x480 with 1 Axes>"
      ]
     },
     "metadata": {},
     "output_type": "display_data"
    }
   ],
   "source": [
    "# takes a list of lon and lat points and converts into a Polygon\n",
    "polygon = Polygon(boundary_lonlat)\n",
    "\n",
    "gdf_test = gpd.GeoDataFrame(index=[0], geometry=[polygon])\n",
    "gdf_test.plot()\n",
    "plt.title(f\"Single H3 Cell (res {H3_RES})\")\n",
    "plt.show()"
   ]
  },
  {
   "cell_type": "code",
   "execution_count": 36,
   "id": "6a7fd291-cda1-421c-bdaf-9220897b098f",
   "metadata": {},
   "outputs": [
    {
     "data": {
      "text/html": [
       "<div>\n",
       "<style scoped>\n",
       "    .dataframe tbody tr th:only-of-type {\n",
       "        vertical-align: middle;\n",
       "    }\n",
       "\n",
       "    .dataframe tbody tr th {\n",
       "        vertical-align: top;\n",
       "    }\n",
       "\n",
       "    .dataframe thead th {\n",
       "        text-align: right;\n",
       "    }\n",
       "</style>\n",
       "<table border=\"1\" class=\"dataframe\">\n",
       "  <thead>\n",
       "    <tr style=\"text-align: right;\">\n",
       "      <th></th>\n",
       "      <th>timestamp</th>\n",
       "      <th>origin_lat</th>\n",
       "      <th>origin_lon</th>\n",
       "      <th>dest_lat</th>\n",
       "      <th>dest_lon</th>\n",
       "      <th>price_usd</th>\n",
       "      <th>trips</th>\n",
       "      <th>h3_origin</th>\n",
       "    </tr>\n",
       "  </thead>\n",
       "  <tbody>\n",
       "    <tr>\n",
       "      <th>0</th>\n",
       "      <td>2025-06-01 08:15:00</td>\n",
       "      <td>37.775</td>\n",
       "      <td>-122.418</td>\n",
       "      <td>37.789</td>\n",
       "      <td>-122.401</td>\n",
       "      <td>14.50</td>\n",
       "      <td>1</td>\n",
       "      <td>872830828ffffff</td>\n",
       "    </tr>\n",
       "    <tr>\n",
       "      <th>1</th>\n",
       "      <td>2025-06-01 08:20:00</td>\n",
       "      <td>37.776</td>\n",
       "      <td>-122.419</td>\n",
       "      <td>37.788</td>\n",
       "      <td>-122.400</td>\n",
       "      <td>15.00</td>\n",
       "      <td>1</td>\n",
       "      <td>872830828ffffff</td>\n",
       "    </tr>\n",
       "    <tr>\n",
       "      <th>2</th>\n",
       "      <td>2025-06-01 08:25:00</td>\n",
       "      <td>37.774</td>\n",
       "      <td>-122.417</td>\n",
       "      <td>37.790</td>\n",
       "      <td>-122.402</td>\n",
       "      <td>13.75</td>\n",
       "      <td>1</td>\n",
       "      <td>872830828ffffff</td>\n",
       "    </tr>\n",
       "    <tr>\n",
       "      <th>3</th>\n",
       "      <td>2025-06-01 09:00:00</td>\n",
       "      <td>37.780</td>\n",
       "      <td>-122.420</td>\n",
       "      <td>37.791</td>\n",
       "      <td>-122.405</td>\n",
       "      <td>12.50</td>\n",
       "      <td>2</td>\n",
       "      <td>872830828ffffff</td>\n",
       "    </tr>\n",
       "    <tr>\n",
       "      <th>4</th>\n",
       "      <td>2025-06-01 09:15:00</td>\n",
       "      <td>37.779</td>\n",
       "      <td>-122.419</td>\n",
       "      <td>37.792</td>\n",
       "      <td>-122.404</td>\n",
       "      <td>11.75</td>\n",
       "      <td>3</td>\n",
       "      <td>872830828ffffff</td>\n",
       "    </tr>\n",
       "  </tbody>\n",
       "</table>\n",
       "</div>"
      ],
      "text/plain": [
       "            timestamp  origin_lat  origin_lon  dest_lat  dest_lon  price_usd  \\\n",
       "0 2025-06-01 08:15:00      37.775    -122.418    37.789  -122.401      14.50   \n",
       "1 2025-06-01 08:20:00      37.776    -122.419    37.788  -122.400      15.00   \n",
       "2 2025-06-01 08:25:00      37.774    -122.417    37.790  -122.402      13.75   \n",
       "3 2025-06-01 09:00:00      37.780    -122.420    37.791  -122.405      12.50   \n",
       "4 2025-06-01 09:15:00      37.779    -122.419    37.792  -122.404      11.75   \n",
       "\n",
       "   trips        h3_origin  \n",
       "0      1  872830828ffffff  \n",
       "1      1  872830828ffffff  \n",
       "2      1  872830828ffffff  \n",
       "3      2  872830828ffffff  \n",
       "4      3  872830828ffffff  "
      ]
     },
     "metadata": {},
     "output_type": "display_data"
    },
    {
     "data": {
      "text/html": [
       "<div>\n",
       "<style scoped>\n",
       "    .dataframe tbody tr th:only-of-type {\n",
       "        vertical-align: middle;\n",
       "    }\n",
       "\n",
       "    .dataframe tbody tr th {\n",
       "        vertical-align: top;\n",
       "    }\n",
       "\n",
       "    .dataframe thead th {\n",
       "        text-align: right;\n",
       "    }\n",
       "</style>\n",
       "<table border=\"1\" class=\"dataframe\">\n",
       "  <thead>\n",
       "    <tr style=\"text-align: right;\">\n",
       "      <th></th>\n",
       "      <th>h3_origin</th>\n",
       "      <th>trips_sum</th>\n",
       "      <th>price_mean</th>\n",
       "    </tr>\n",
       "  </thead>\n",
       "  <tbody>\n",
       "    <tr>\n",
       "      <th>0</th>\n",
       "      <td>872830828ffffff</td>\n",
       "      <td>79</td>\n",
       "      <td>16.05</td>\n",
       "    </tr>\n",
       "  </tbody>\n",
       "</table>\n",
       "</div>"
      ],
      "text/plain": [
       "         h3_origin  trips_sum  price_mean\n",
       "0  872830828ffffff         79       16.05"
      ]
     },
     "metadata": {},
     "output_type": "display_data"
    }
   ],
   "source": [
    "# creates new column in dataframe containing H3 index for each row's lat and lon\n",
    "df['h3_origin'] = df.apply(\n",
    "    lambda row: h3.latlng_to_cell(row['origin_lat'], row['origin_lon'], H3_RES),\n",
    "    axis= 1 \n",
    ")\n",
    "display(df.head())\n",
    "\n",
    "# groups each h3 cell by their respective trips and prices\n",
    "agg = df.groupby('h3_origin').agg(\n",
    "    trips_sum=('trips', 'sum'),\n",
    "    price_mean=('price_usd', 'mean')\n",
    ").reset_index()\n",
    "display(agg.head())"
   ]
  },
  {
   "cell_type": "code",
   "execution_count": 44,
   "id": "2f28d119-57bb-464b-b59d-4abcd5fe6684",
   "metadata": {},
   "outputs": [
    {
     "name": "stdout",
     "output_type": "stream",
     "text": [
      "✅ GeoJSON saved: h3_cells.geojson\n"
     ]
    },
    {
     "data": {
      "image/png": "[encoded data removed]",
      "text/plain": [
       "<Figure size 640x480 with 2 Axes>"
      ]
     },
     "metadata": {},
     "output_type": "display_data"
    }
   ],
   "source": [
    "# convert H3 index to shapely polygon\n",
    "def h3_to_polygon(h3_index):\n",
    "    boundary = h3.cell_to_boundary(h3_index)\n",
    "    boundary_lonlat = [(lon, lat) for lat, lon in boundary]\n",
    "    return Polygon(boundary_lonlat)\n",
    "\n",
    "agg['geometry'] = agg['h3_origin'].apply(h3_to_polygon)\n",
    "gdf = gpd.GeoDataFrame(agg, geometry=agg['geometry'])\n",
    "\n",
    "# set CRS to WGS84 (lat/lon)\n",
    "gdf.set_crs(epsg=4326, inplace=True)\n",
    "\n",
    "gdf.to_file(\"h3_cells.geojson\", driver='GeoJSON')\n",
    "print(\"✅ GeoJSON saved: h3_cells.geojson\")\n",
    "\n",
    "gdf.plot(column='trips_sum', cmap='OrRd', legend=True)\n",
    "plt.title(f\"Trips Aggregated by H3 Cell (res {H3_RES})\")\n",
    "plt.show()"
   ]
  },
  {
   "cell_type": "code",
   "execution_count": null,
   "id": "c80ad539-1403-4d7c-8322-223044a75350",
   "metadata": {},
   "outputs": [],
   "source": [
    "conda install geopandas h3 -c conda-forge"
   ]
  },
  {
   "cell_type": "code",
   "execution_count": 9,
   "id": "79de3a30-73d6-4f2d-af47-cda475afeb9a",
   "metadata": {
    "scrolled": true
   },
   "outputs": [
    {
     "name": "stdout",
     "output_type": "stream",
     "text": [
      "Channels:\n",
      " - defaults\n",
      " - conda-forge\n",
      "Platform: osx-arm64\n",
      "Collecting package metadata (repodata.json): done\n",
      "Solving environment: done\n",
      "\n",
      "## Package Plan ##\n",
      "\n",
      "  environment location: /opt/anaconda3\n",
      "\n",
      "  removed specs:\n",
      "    - h3\n",
      "\n",
      "\n",
      "The following packages will be REMOVED:\n",
      "\n",
      "  h3-4.3.0-hc039f4b_1\n",
      "\n",
      "\n",
      "\n",
      "Downloading and Extracting Packages:\n",
      "\n",
      "Preparing transaction: done\n",
      "Verifying transaction: done\n",
      "Executing transaction: done\n",
      "\n",
      "PackagesNotFoundError: The following packages are missing from the target environment:\n",
      "  - h3-py\n",
      "\n",
      "\n",
      "Retrieving notices: done\n",
      "Channels:\n",
      " - defaults\n",
      " - conda-forge\n",
      "Platform: osx-arm64\n",
      "Collecting package metadata (repodata.json): done\n",
      "Solving environment: failed\n",
      "\n",
      "PackagesNotFoundError: The following packages are not available from current channels:\n",
      "\n",
      "  - h3==3.7.6\n",
      "\n",
      "Current channels:\n",
      "\n",
      "  - defaults\n",
      "  - https://conda.anaconda.org/conda-forge/noarch\n",
      "  - https://conda.anaconda.org/conda-forge/osx-arm64\n",
      "\n",
      "To search for alternate channels that may provide the conda package you're\n",
      "looking for, navigate to\n",
      "\n",
      "    https://anaconda.org\n",
      "\n",
      "and use the search bar at the top of the page.\n",
      "\n",
      "\n"
     ]
    }
   ],
   "source": [
    "!conda uninstall h3 -y\n",
    "!conda uninstall h3-py -y\n",
    "!conda install h3==3.7.6"
   ]
  }
 ],
 "metadata": {
  "kernelspec": {
   "display_name": "Python 3 (ipykernel)",
   "language": "python",
   "name": "python3"
  },
  "language_info": {
   "codemirror_mode": {
    "name": "ipython",
    "version": 3
   },
   "file_extension": ".py",
   "mimetype": "text/x-python",
   "name": "python",
   "nbconvert_exporter": "python",
   "pygments_lexer": "ipython3",
   "version": "3.12.2"
  }
 },
 "nbformat": 4,
 "nbformat_minor": 5
}
