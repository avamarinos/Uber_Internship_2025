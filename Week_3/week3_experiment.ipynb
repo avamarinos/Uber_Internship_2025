{
 "cells": [
  {
   "cell_type": "code",
   "execution_count": 2,
   "id": "e6f3a438-1558-4e6a-8d4f-b74433f20a42",
   "metadata": {},
   "outputs": [
    {
     "ename": "ModuleNotFoundError",
     "evalue": "No module named 'libpysal'",
     "output_type": "error",
     "traceback": [
      "\u001b[0;31m---------------------------------------------------------------------------\u001b[0m",
      "\u001b[0;31mModuleNotFoundError\u001b[0m                       Traceback (most recent call last)",
      "Cell \u001b[0;32mIn[2], line 6\u001b[0m\n\u001b[1;32m      3\u001b[0m \u001b[38;5;28;01mimport\u001b[39;00m \u001b[38;5;21;01mnumpy\u001b[39;00m \u001b[38;5;28;01mas\u001b[39;00m \u001b[38;5;21;01mnp\u001b[39;00m                      \u001b[38;5;66;03m# numerical ops\u001b[39;00m\n\u001b[1;32m      4\u001b[0m \u001b[38;5;28;01mimport\u001b[39;00m \u001b[38;5;21;01mmatplotlib\u001b[39;00m\u001b[38;5;21;01m.\u001b[39;00m\u001b[38;5;21;01mpyplot\u001b[39;00m \u001b[38;5;28;01mas\u001b[39;00m \u001b[38;5;21;01mplt\u001b[39;00m         \u001b[38;5;66;03m# plots\u001b[39;00m\n\u001b[0;32m----> 6\u001b[0m \u001b[38;5;28;01mfrom\u001b[39;00m \u001b[38;5;21;01mlibpysal\u001b[39;00m\u001b[38;5;21;01m.\u001b[39;00m\u001b[38;5;21;01mweights\u001b[39;00m \u001b[38;5;28;01mimport\u001b[39;00m Queen      \u001b[38;5;66;03m# spatial weights\u001b[39;00m\n\u001b[1;32m      7\u001b[0m \u001b[38;5;28;01mfrom\u001b[39;00m \u001b[38;5;21;01mesda\u001b[39;00m\u001b[38;5;21;01m.\u001b[39;00m\u001b[38;5;21;01mmoran\u001b[39;00m \u001b[38;5;28;01mimport\u001b[39;00m Moran            \u001b[38;5;66;03m# Moran’s I statistic\u001b[39;00m\n\u001b[1;32m      8\u001b[0m \u001b[38;5;28;01mfrom\u001b[39;00m \u001b[38;5;21;01msplot\u001b[39;00m\u001b[38;5;21;01m.\u001b[39;00m\u001b[38;5;21;01mesda\u001b[39;00m \u001b[38;5;28;01mimport\u001b[39;00m moran_scatterplot\n",
      "\u001b[0;31mModuleNotFoundError\u001b[0m: No module named 'libpysal'"
     ]
    }
   ],
   "source": [
    "import geopandas as gpd                 # spatial data\n",
    "import pandas as pd                     # tabular data\n",
    "import numpy as np                      # numerical ops\n",
    "import matplotlib.pyplot as plt         # plots\n",
    "\n",
    "from libpysal.weights import Queen      # spatial weights\n",
    "from esda.moran import Moran            # Moran’s I statistic\n",
    "from splot.esda import moran_scatterplot # plot Moran scatterplot"
   ]
  },
  {
   "cell_type": "code",
   "execution_count": null,
   "id": "0cc3a2b5-500f-4822-bea0-035a880c4bad",
   "metadata": {},
   "outputs": [],
   "source": []
  }
 ],
 "metadata": {
  "kernelspec": {
   "display_name": "Python 3 (ipykernel)",
   "language": "python",
   "name": "python3"
  },
  "language_info": {
   "codemirror_mode": {
    "name": "ipython",
    "version": 3
   },
   "file_extension": ".py",
   "mimetype": "text/x-python",
   "name": "python",
   "nbconvert_exporter": "python",
   "pygments_lexer": "ipython3",
   "version": "3.12.2"
  }
 },
 "nbformat": 4,
 "nbformat_minor": 5
}
