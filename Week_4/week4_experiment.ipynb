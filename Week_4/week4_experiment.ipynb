{
 "cells": [
  {
   "cell_type": "code",
   "execution_count": 3,
   "id": "5d102a82-53ad-4171-b4a6-ca244aac9d23",
   "metadata": {},
   "outputs": [],
   "source": [
    "import geopandas as gpd                 # spatial data\n",
    "import pandas as pd                     # tabular data\n",
    "import numpy as np                      # numerical ops\n",
    "import matplotlib.pyplot as plt         # plots\n",
    "from shapely import wkt                 # import used to convert strings into shapely Polygons\n",
    "\n",
    "from libpysal.weights import Queen      # spatial weights\n",
    "from esda.moran import Moran            # Moran’s I statistic\n",
    "from esda.moran import Moran_Local      # Separate import to do Local Moran\n",
    "from splot.esda import moran_scatterplot # plot Moran scatterplot\n",
    "import statsmodels.api as sm"
   ]
  },
  {
   "cell_type": "code",
   "execution_count": 9,
   "id": "40232823-4b29-45ab-a391-8d5b4e7a982a",
   "metadata": {},
   "outputs": [
    {
     "name": "stdout",
     "output_type": "stream",
     "text": [
      "Number of rows: 750\n",
      "Index(['h3_origin', 'trips_sum', 'price_mean', 'treated', 'price_mean_new',\n",
      "       'trips_simulated', 'trips_change_pct', 'elasticity_estimate',\n",
      "       'local_moran_I', 'moran_cluster', 'geometry'],\n",
      "      dtype='object')\n"
     ]
    }
   ],
   "source": [
    "gdf = gpd.read_file(\"../Week_3/h3_elasticity_clusters.geojson\")\n",
    "# make hundreds of rows. Increase amount of data.\n",
    "gdf = pd.concat([gdf] * 50, ignore_index=True)\n",
    "print(\"Number of rows:\", len(gdf)) \n",
    "print(gdf.columns)"
   ]
  },
  {
   "cell_type": "code",
   "execution_count": 11,
   "id": "687b82cc-5452-49f6-8054-7ada9a79f5a3",
   "metadata": {},
   "outputs": [],
   "source": [
    "gdf = gdf.dropna(subset=[\"price_mean\",\"trips_sum\", \"moran_cluster\"])"
   ]
  },
  {
   "cell_type": "code",
   "execution_count": 35,
   "id": "8f4a3aeb-b446-42fc-93fc-d926acde7404",
   "metadata": {},
   "outputs": [],
   "source": [
    "# convert numeric columns from object to float (numbers were stored as strings) \n",
    "numeric_cols = [\"trips_sum\", \"price_mean\", \"price_mean_new\", \n",
    "                \"trips_simulated\", \"trips_change_pct\"]\n",
    "for col in numeric_cols:\n",
    "    gdf[col] = pd.to_numeric(gdf[col], errors=\"coerce\")"
   ]
  },
  {
   "cell_type": "code",
   "execution_count": 57,
   "id": "abfef4d0-00ab-438a-917d-4b812346af71",
   "metadata": {},
   "outputs": [
    {
     "name": "stdout",
     "output_type": "stream",
     "text": [
      "                            OLS Regression Results                            \n",
      "==============================================================================\n",
      "Dep. Variable:                      y   R-squared:                       0.347\n",
      "Model:                            OLS   Adj. R-squared:                  0.344\n",
      "Method:                 Least Squares   F-statistic:                     131.9\n",
      "Date:                Sat, 02 Aug 2025   Prob (F-statistic):           1.50e-68\n",
      "Time:                        15:33:11   Log-Likelihood:                -1180.8\n",
      "No. Observations:                 750   AIC:                             2370.\n",
      "Df Residuals:                     746   BIC:                             2388.\n",
      "Df Model:                           3                                         \n",
      "Covariance Type:            nonrobust                                         \n",
      "==============================================================================\n",
      "                 coef    std err          t      P>|t|      [0.025      0.975]\n",
      "------------------------------------------------------------------------------\n",
      "const         21.1529      0.179    118.163      0.000      20.801      21.504\n",
      "x1            -0.0157      0.001    -17.242      0.000      -0.018      -0.014\n",
      "x2             0.3573      0.117      3.048      0.002       0.127       0.587\n",
      "x3            -0.1363      0.123     -1.106      0.269      -0.378       0.106\n",
      "==============================================================================\n",
      "Omnibus:                        0.796   Durbin-Watson:                   2.653\n",
      "Prob(Omnibus):                  0.672   Jarque-Bera (JB):                0.816\n",
      "Skew:                           0.079   Prob(JB):                        0.665\n",
      "Kurtosis:                       2.965   Cond. No.                         755.\n",
      "==============================================================================\n",
      "\n",
      "Notes:\n",
      "[1] Standard Errors assume that the covariance matrix of the errors is correctly specified.\n"
     ]
    }
   ],
   "source": [
    "# creating X with numeric features only\n",
    "X = pd.concat([\n",
    "    gdf[[\"trips_sum\"]],\n",
    "    pd.get_dummies(gdf[\"moran_cluster\"], prefix=\"moran\", drop_first=True)\n",
    "], axis=1)\n",
    "\n",
    "# force conversion to numeric. We want to observe the effects of trips_sum, moran_cluster on price_mean. \n",
    "# price_mean is the dependent variable, moran_cluster and trips_sum are independent variables.\n",
    "X = X.apply(pd.to_numeric, errors=\"coerce\")\n",
    "y = pd.to_numeric(gdf[\"price_mean\"], errors=\"coerce\")\n",
    "\n",
    "# drop rows with nans\n",
    "data = pd.concat([X, y], axis=1).dropna()\n",
    "X = data.drop(columns=[\"price_mean\"])\n",
    "y = data[\"price_mean\"]\n",
    "\n",
    "# Add constant term for intercept in regression. Convert to numpy arrays to eliminate objects\n",
    "X = sm.add_constant(X.values.astype(float))\n",
    "y = y.values.astype(float)\n",
    "\n",
    "# OLS\n",
    "ols_model = sm.OLS(y, X).fit()\n",
    "print(ols_model.summary())\n",
    "\n",
    "# R-squared of 0.347 -> 34.7% of the variation in price_mean is explained by my predictors (trips_sum and moran_cluster) \n",
    "# F statistic -> overall model is statistically significant. \n",
    "# significance if p value is less than 0.05. \n",
    "# trips_sum is x1. for each extra trip, price decreases by about 0.0157. \n",
    "# high high moran cluster is x2. is significant -> prices in hot spot clusters are higher. \n",
    "# low low moran cluster is x3. is not significant -> clusters don't impact price. "
   ]
  },
  {
   "cell_type": "code",
   "execution_count": 59,
   "id": "833dcb90-50fb-4579-a396-a0b462769d7b",
   "metadata": {},
   "outputs": [
    {
     "name": "stdout",
     "output_type": "stream",
     "text": [
      "Coefficients: [ 2.11528590e+01 -1.57484428e-02  3.57310140e-01 -1.36268161e-01]\n",
      "R-squared: 0.34658449883787346\n"
     ]
    }
   ],
   "source": [
    "# Extract and print coefficients and R-squared\n",
    "print(\"Coefficients:\", ols_model.params)\n",
    "print(\"R-squared:\", ols_model.rsquared)\n",
    "\n",
    "# abt 34.7% of variation in price_mean is explained by trips and moran clusters. \n",
    "\n",
    "# 21.15 is baseline price for polygon w/ 0 trips. \n",
    "# each additional trip is associated w/ 1.57 cent decrease in price.\n",
    "# being in high high cluster increases price by 0.36 compared to \"non significant\" clusters.\n",
    "# being in low low cluster decreases price by 0.14. (but NOT statistically significant analysis) "
   ]
  },
  {
   "cell_type": "code",
   "execution_count": 71,
   "id": "9b1c434e-ab36-4218-8785-3e29afc9e88c",
   "metadata": {},
   "outputs": [
    {
     "data": {
      "image/png": "[encoded data removed]",
      "text/plain": [
       "<Figure size 1000x600 with 1 Axes>"
      ]
     },
     "metadata": {},
     "output_type": "display_data"
    }
   ],
   "source": [
    "# Visualize relationship between trips_sum and price_mean\n",
    "plt.figure(figsize=(10,6))\n",
    "plt.scatter(gdf[\"trips_sum\"], gdf[\"price_mean\"], alpha=0.6, label=\"Data points\")\n",
    "# want x values (trips) to be in ascending order. not in original row order. \n",
    "sorted_idx = gdf[\"trips_sum\"].argsort()\n",
    "plt.plot(gdf[\"trips_sum\"].iloc[sorted_idx],\n",
    "         ols_model.predict(X)[sorted_idx],\n",
    "         color=\"red\", label=\"OLS fit line\")\n",
    "#plt.plot(gdf[\"price_mean\"], ols_model.predict(X), color=\"red\", label=\"OLS fit line\")\n",
    "plt.xlabel(\"Trips Sum\")\n",
    "plt.ylabel(\"Price Mean\")\n",
    "plt.title(\"OLS Regression: Price vs Trips and Cluster\")\n",
    "plt.legend()\n",
    "plt.show()"
   ]
  },
  {
   "cell_type": "code",
   "execution_count": 75,
   "id": "1ab78db5-ced2-4123-9653-e4dda4f0f890",
   "metadata": {},
   "outputs": [
    {
     "name": "stderr",
     "output_type": "stream",
     "text": [
      "/var/folders/w3/f3zhp9t17_7cxs5hc0t1bznw0000gn/T/ipykernel_59869/3595304705.py:1: FutureWarning: `use_index` defaults to False but will default to True in future. Set True/False directly to control this behavior and silence this warning\n",
      "  w = Queen.from_dataframe(gdf)\n",
      "/opt/anaconda3/lib/python3.12/site-packages/libpysal/weights/contiguity.py:347: UserWarning: The weights matrix is not fully connected: \n",
      " There are 8 disconnected components.\n",
      "  W.__init__(self, neighbors, ids=ids, **kw)\n"
     ]
    },
    {
     "name": "stdout",
     "output_type": "stream",
     "text": [
      "Spatial Lag Coefficients: [ 1.26287642 -0.00295648  0.6259507  -0.07013536  0.94863509]\n",
      "Spatial Error Coefficients: [20.12881991 -0.02384326  1.04551029  0.87104079  0.98678793]\n"
     ]
    },
    {
     "name": "stderr",
     "output_type": "stream",
     "text": [
      "/opt/anaconda3/lib/python3.12/site-packages/spreg/ml_error.py:184: RuntimeWarning: Method 'bounded' does not support relative tolerance in x; defaulting to absolute tolerance.\n",
      "  res = minimize_scalar(\n"
     ]
    }
   ],
   "source": [
    "w = Queen.from_dataframe(gdf)\n",
    "w.transform = \"r\"\n",
    "\n",
    "# Fit Spatial Lag Model\n",
    "from spreg import ML_Lag\n",
    "\n",
    "lag_model = ML_Lag(y, X, w=w)\n",
    "print(\"Spatial Lag Coefficients:\", lag_model.betas.flatten())\n",
    "\n",
    "# Fit Spatial Error Model\n",
    "from spreg import ML_Error\n",
    "\n",
    "error_model = ML_Error(y, X, w=w)\n",
    "print(\"Spatial Error Coefficients:\", error_model.betas.flatten())\n",
    "\n",
    "\n",
    "# Strong spatial autocorrelation. prices in one area are highly correlated w/ prices in other areas. rho = 0.95. lambda = 0.99\n",
    "# high-high clusters increase price. \n",
    "# trips_sum negatively related to price. (competitive pricing) "
   ]
  },
  {
   "cell_type": "code",
   "execution_count": null,
   "id": "03302898-5dcf-4ffa-bc7b-977ac46db49b",
   "metadata": {},
   "outputs": [],
   "source": [
    "# Interpretation:\n",
    "# - How do coefficients differ between OLS and spatial models?\n",
    "# in spatial model, coefficient is much lower. \n",
    "# all models agree trips are negatively associated with price. \n",
    "# spatial model amplifies effect of high high clusters, cluster pricing increases when there's spacial dependence. \n",
    "# in OLS, low low clusters reduce price, but in spatial error, they slightly increase price. (hidding spatial factors?)\n",
    "\n",
    "# - Which model has better statistical properties?\n",
    "# Both models (ML_Lag and ML_Error) are better than OLS because they check if spatial dependence exists. \n",
    "\n",
    "# - What does spatial dependence imply about Uber pricing strategy?\n",
    "# prices in a location are not independent but influenced by prices in other neighboring areas. Prices move together to reduce \n",
    "# price competition between neighboring locations. Prices in one hexagon can never be isolated. "
   ]
  }
 ],
 "metadata": {
  "kernelspec": {
   "display_name": "Python 3 (ipykernel)",
   "language": "python",
   "name": "python3"
  },
  "language_info": {
   "codemirror_mode": {
    "name": "ipython",
    "version": 3
   },
   "file_extension": ".py",
   "mimetype": "text/x-python",
   "name": "python",
   "nbconvert_exporter": "python",
   "pygments_lexer": "ipython3",
   "version": "3.12.2"
  }
 },
 "nbformat": 4,
 "nbformat_minor": 5
}
